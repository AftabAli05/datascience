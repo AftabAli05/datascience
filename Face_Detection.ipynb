{
 "cells": [
  {
   "cell_type": "code",
   "execution_count": 93,
   "id": "396d1464",
   "metadata": {},
   "outputs": [],
   "source": [
    "import cv2 as cv "
   ]
  },
  {
   "cell_type": "code",
   "execution_count": 94,
   "id": "3263be0d",
   "metadata": {},
   "outputs": [],
   "source": [
    "path = 'C:/Users/Aftab Ali/Desktop/New folder/openCv course/images/gp2.jpg'\n",
    "img = cv.imread(path)\n",
    "img1 = cv.imread(path)"
   ]
  },
  {
   "cell_type": "code",
   "execution_count": 95,
   "id": "2f41d17f",
   "metadata": {},
   "outputs": [],
   "source": [
    "haar_cascade = cv.CascadeClassifier('Haar_face.xml')\n",
    "face_rect = haar_cascade.detectMultiScale(img, scaleFactor=1.1, minNeighbors=11)"
   ]
  },
  {
   "cell_type": "code",
   "execution_count": 96,
   "id": "702ffc2d",
   "metadata": {},
   "outputs": [
    {
     "name": "stdout",
     "output_type": "stream",
     "text": [
      "Number of faces found=11\n"
     ]
    }
   ],
   "source": [
    "print(f'Number of faces found={len(face_rect)}')"
   ]
  },
  {
   "cell_type": "code",
   "execution_count": 97,
   "id": "f38ef790",
   "metadata": {},
   "outputs": [],
   "source": [
    "for(x,y,w,h) in face_rect:\n",
    "    cv.rectangle(img, (x,y), (x+w,y+h), (255,0,0), thickness=2)"
   ]
  },
  {
   "cell_type": "code",
   "execution_count": 98,
   "id": "fb6b8aea",
   "metadata": {},
   "outputs": [
    {
     "data": {
      "text/plain": [
       "-1"
      ]
     },
     "execution_count": 98,
     "metadata": {},
     "output_type": "execute_result"
    }
   ],
   "source": [
    "cv.imshow('aftab',img)\n",
    "cv.waitKey(0)"
   ]
  }
 ],
 "metadata": {
  "kernelspec": {
   "display_name": "Python 3 (ipykernel)",
   "language": "python",
   "name": "python3"
  },
  "language_info": {
   "codemirror_mode": {
    "name": "ipython",
    "version": 3
   },
   "file_extension": ".py",
   "mimetype": "text/x-python",
   "name": "python",
   "nbconvert_exporter": "python",
   "pygments_lexer": "ipython3",
   "version": "3.9.13"
  }
 },
 "nbformat": 4,
 "nbformat_minor": 5
}
