{
 "cells": [
  {
   "cell_type": "code",
   "execution_count": 47,
   "id": "19e733e3",
   "metadata": {},
   "outputs": [],
   "source": [
    "import os \n",
    "import cv2 as cv\n",
    "import numpy as np"
   ]
  },
  {
   "cell_type": "code",
   "execution_count": 48,
   "id": "e8aa5664",
   "metadata": {},
   "outputs": [],
   "source": [
    "#list of peoples \n",
    "people = ['umer_saif','sunder_pichai','imran_khan']\n",
    "DIR= 'C:\\\\Users\\\\Aftab Ali\\\\Desktop\\\\New folder\\\\openCv course\\\\faces'\n",
    "\n",
    "haar_cascade = cv.CascadeClassifier('Haar_face.xml')\n",
    "\n",
    "features=[]\n",
    "labels=[]\n",
    "\n",
    "def create_train():\n",
    "    for person in people:\n",
    "        path = os.path.join(DIR,person)\n",
    "        label = people.index(person)\n",
    "        \n",
    "        for img in os.listdir(path):\n",
    "            img_path = os.path.join(path, img)\n",
    "            \n",
    "            img_array = cv.imread(img_path)\n",
    "            gray = cv.cvtColor(img_array, cv.COLOR_BGR2GRAY)\n",
    "            \n",
    "            faces_rect = haar_cascade.detectMultiScale(gray, scaleFactor =1.1,minNeighbors=4)\n",
    "            \n",
    "            for (x,y,w,h) in faces_rect:\n",
    "                faces_roi = gray[y:y+h, x:x+w]\n",
    "                features.append(faces_roi)\n",
    "                labels.append(label)"
   ]
  },
  {
   "cell_type": "code",
   "execution_count": 49,
   "id": "68ff3b21",
   "metadata": {},
   "outputs": [
    {
     "name": "stdout",
     "output_type": "stream",
     "text": [
      "training ---------------------------done\n"
     ]
    }
   ],
   "source": [
    "create_train()\n",
    "print('training ---------------------------done')"
   ]
  },
  {
   "cell_type": "code",
   "execution_count": 50,
   "id": "7f8ed50a",
   "metadata": {},
   "outputs": [],
   "source": [
    "features = np.array(features,dtype='object')\n",
    "labels = np.array(labels)"
   ]
  },
  {
   "cell_type": "code",
   "execution_count": 51,
   "id": "e96ae3ef",
   "metadata": {},
   "outputs": [],
   "source": [
    "#create recognizer \n",
    "face_recognizer = cv.face.LBPHFaceRecognizer_create()"
   ]
  },
  {
   "cell_type": "code",
   "execution_count": 52,
   "id": "c9d8b2cb",
   "metadata": {},
   "outputs": [],
   "source": [
    "#train recognizer\n",
    "face_recognizer.train(features,labels)\n",
    "face_recognizer.save('face_trained.yml')"
   ]
  },
  {
   "cell_type": "code",
   "execution_count": 53,
   "id": "0cf5ac9a",
   "metadata": {},
   "outputs": [],
   "source": [
    "np.save('features.npy', features)\n",
    "np.save('labels.npy',labels)"
   ]
  }
 ],
 "metadata": {
  "kernelspec": {
   "display_name": "Python 3 (ipykernel)",
   "language": "python",
   "name": "python3"
  },
  "language_info": {
   "codemirror_mode": {
    "name": "ipython",
    "version": 3
   },
   "file_extension": ".py",
   "mimetype": "text/x-python",
   "name": "python",
   "nbconvert_exporter": "python",
   "pygments_lexer": "ipython3",
   "version": "3.9.13"
  }
 },
 "nbformat": 4,
 "nbformat_minor": 5
}
